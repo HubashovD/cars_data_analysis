{
 "cells": [
  {
   "cell_type": "markdown",
   "id": "normal-telescope",
   "metadata": {
    "ExecuteTime": {
     "end_time": "2021-05-05T19:38:17.859224Z",
     "start_time": "2021-05-05T19:38:17.845262Z"
    }
   },
   "source": [
    "<font size = 5>Більше про відкриті дані: </font> \n",
    "\n",
    "https://docs.google.com/presentation/d/1t9ATBb3Y9YQDZA9ctpNVAVt2AVbncxqPAZRtjBZZ-GQ/edit?usp=sharing"
   ]
  },
  {
   "cell_type": "markdown",
   "id": "constant-phrase",
   "metadata": {},
   "source": [
    "<font size = 5>Набір даних:</font> \n",
    "\n",
    "https://data.gov.ua/dataset/06779371-308f-42d7-895e-5a39833375f0"
   ]
  },
  {
   "cell_type": "markdown",
   "id": "medium-looking",
   "metadata": {},
   "source": [
    "<font size = 5>__Що ми можемо дізнатись__:</font> \n",
    "    <ul>\n",
    "     <li>топ реєстрацій автомобілів за маркою;</li>\n",
    "        <li>топ реєстрацій автомобілів за моделлю</li>\n",
    "        <li>кількість реєстрацій авто по країні</li>\n",
    "        <li>кількість реєстрацій авто по областях</li>\n",
    "    </ul>"
   ]
  },
  {
   "cell_type": "markdown",
   "id": "advised-african",
   "metadata": {},
   "source": [
    "<font size = 5>__Імпортуємо бібілотеки__ </font>"
   ]
  },
  {
   "cell_type": "code",
   "execution_count": null,
   "id": "statistical-probe",
   "metadata": {
    "ExecuteTime": {
     "end_time": "2021-10-22T11:33:06.798840Z",
     "start_time": "2021-10-22T11:33:03.524069Z"
    }
   },
   "outputs": [],
   "source": [
    "import requests # робимо запити по url\n",
    "import json # для роботи із json файлами\n",
    "import pandas as pd # основна бібілотека для роботи із даними\n",
    "import numpy as np # для роботи із матрицями, веторами та масивами\n",
    "from matplotlib import pyplot as plt # бібліотека для побудови графіків\n",
    "from pprint import pprint as pp # бібліотека для людиночитаного представлення даних \n",
    "import re # бібліотека для робот із регулярними виразами\n",
    "import seaborn as sns # надбудова для спрошення побудови графіків\n",
    "import csv # бібліотека для роботи із csv файлами\n",
    "import io # модуль із командами для взаємодіїі із різними типами файлів\n",
    "import zipfile # бібліотека для роботи із .zip файлами\n",
    "import os # бібліотека для взаємодії із системою\n",
    "from tqdm import tqdm # звичайний прогрес бар"
   ]
  },
  {
   "cell_type": "markdown",
   "id": "exclusive-formula",
   "metadata": {},
   "source": [
    "# Працюємо із АРІ порталу"
   ]
  },
  {
   "cell_type": "markdown",
   "id": "earlier-laundry",
   "metadata": {},
   "source": [
    "<font size = 5>__Робимо запит до АРІ Data.gov.ua__</font>\n",
    "\n",
    "__документація по роботі із АРІ Порталу:__ https://data.gov.ua/pages/aboutuser2\n",
    "\n",
    "__ідентифікаційний номер набору даних по реєстрації авто в Україні:__ \t06779371-308f-42d7-895e-5a39833375f0\n",
    "\n",
    "__посилання на набір даних:__ https://data.gov.ua/dataset/06779371-308f-42d7-895e-5a39833375f0"
   ]
  },
  {
   "cell_type": "code",
   "execution_count": null,
   "id": "cooperative-machine",
   "metadata": {
    "ExecuteTime": {
     "end_time": "2021-10-21T17:48:29.210373Z",
     "start_time": "2021-10-21T17:48:28.996391Z"
    }
   },
   "outputs": [],
   "source": [
    "response = requests.get(\"https://data.gov.ua/api/3/action/package_show?id=06779371-308f-42d7-895e-5a39833375f0\").json()"
   ]
  },
  {
   "cell_type": "code",
   "execution_count": null,
   "id": "great-arrow",
   "metadata": {
    "ExecuteTime": {
     "end_time": "2021-10-21T17:48:31.264333Z",
     "start_time": "2021-10-21T17:48:31.240289Z"
    }
   },
   "outputs": [],
   "source": [
    "# звичайний метод не надто ефективний в такому випадку\n",
    "print(response)"
   ]
  },
  {
   "cell_type": "code",
   "execution_count": null,
   "id": "sapphire-female",
   "metadata": {
    "ExecuteTime": {
     "end_time": "2021-10-21T17:48:43.035767Z",
     "start_time": "2021-10-21T17:48:42.874801Z"
    }
   },
   "outputs": [],
   "source": [
    "# краще спрацьовує модуль pprint https://docs.python.org/3/library/pprint.html\n",
    "pp(response) #переглядаємо вміст відповіді"
   ]
  },
  {
   "cell_type": "markdown",
   "id": "labeled-scene",
   "metadata": {},
   "source": [
    "Нам треба знайти дані із атрибутом \"url_redirected_to\" повний шлях: \"[\"result\"][\"resources\"][_порядковий номер ресурсу_][\"url\"]\"\n",
    "Отримуємо дані за допомогою циклу, яким перебираємо всі посилання на ресурси у наборі."
   ]
  },
  {
   "cell_type": "code",
   "execution_count": null,
   "id": "complex-dominican",
   "metadata": {
    "ExecuteTime": {
     "end_time": "2021-10-21T17:48:47.561784Z",
     "start_time": "2021-10-21T17:48:47.539869Z"
    }
   },
   "outputs": [],
   "source": [
    "for i in response[\"result\"][\"resources\"]:\n",
    "    print(i[\"description\"], \" :\", i[\"url\"]) # можна використовувати +, але протыше використовувати кому"
   ]
  },
  {
   "cell_type": "code",
   "execution_count": null,
   "id": "potential-vulnerability",
   "metadata": {
    "ExecuteTime": {
     "end_time": "2021-10-21T17:48:57.141008Z",
     "start_time": "2021-10-21T17:48:57.116838Z"
    }
   },
   "outputs": [],
   "source": [
    "# циклом збираємо url адреси\n",
    "urls = [i[\"url\"] for i in response[\"result\"][\"resources\"]]\n",
    "urls"
   ]
  },
  {
   "cell_type": "code",
   "execution_count": null,
   "id": "stylish-convenience",
   "metadata": {
    "ExecuteTime": {
     "end_time": "2021-10-22T12:33:58.738739Z",
     "start_time": "2021-10-22T12:33:58.676752Z"
    }
   },
   "outputs": [],
   "source": [
    "# створюємо папку \"data\", якщо папка існує отримаємо помилку\n",
    "os.mkdir(\"data\")"
   ]
  },
  {
   "cell_type": "code",
   "execution_count": null,
   "id": "subjective-ceremony",
   "metadata": {
    "ExecuteTime": {
     "end_time": "2021-10-21T17:50:27.639012Z",
     "start_time": "2021-10-21T17:49:18.168290Z"
    }
   },
   "outputs": [],
   "source": [
    "# за допомогою запитів збираємо архіви розпакрвуємо їх та складаємо в папку\n",
    "for url in urls:\n",
    "    response = requests.get(url)\n",
    "    zip_data = io.BytesIO(response.content)\n",
    "    # розпаковуємо архів із даними\n",
    "    print(\"zip_data = io.BytesIO(rs.content)\")\n",
    "    with zipfile.ZipFile(zip_data) as zip_file:\n",
    "        print(\"zip_file.extractall\")\n",
    "        zip_file.extractall(\"data\")"
   ]
  },
  {
   "cell_type": "markdown",
   "id": "pursuant-french",
   "metadata": {},
   "source": [
    "Отримуємо перелік всіх файлів в директорії"
   ]
  },
  {
   "cell_type": "code",
   "execution_count": null,
   "id": "working-dimension",
   "metadata": {
    "ExecuteTime": {
     "end_time": "2021-10-21T18:52:06.271455Z",
     "start_time": "2021-10-21T18:52:06.231679Z"
    }
   },
   "outputs": [],
   "source": [
    "# складаємо перелік файлів в змінну та викликаємо її\n",
    "directory = os.listdir(\"data\")\n",
    "directory"
   ]
  },
  {
   "cell_type": "markdown",
   "id": "suffering-timeline",
   "metadata": {
    "ExecuteTime": {
     "end_time": "2021-04-30T20:09:05.746272Z",
     "start_time": "2021-04-30T20:09:05.733257Z"
    }
   },
   "source": [
    "# Підвантажєння та підготовка даних"
   ]
  },
  {
   "cell_type": "markdown",
   "id": "nervous-space",
   "metadata": {},
   "source": [
    "## Перекодовуємо інформацію про області та сервісні центри"
   ]
  },
  {
   "cell_type": "code",
   "execution_count": null,
   "id": "tropical-strike",
   "metadata": {
    "ExecuteTime": {
     "end_time": "2021-10-21T18:52:26.994008Z",
     "start_time": "2021-10-21T18:52:11.305965Z"
    }
   },
   "outputs": [],
   "source": [
    "# тестуємо завантаження даних\n",
    "# вимикаємо сповіщення про помилки та примусово зазначаємо роздільник\n",
    "# досліджуємо датасет\n",
    "data = pd.read_csv(\"data/tz_opendata_z01012013_po31122013.csv\", error_bad_lines = False, sep = \";\")\n",
    "data"
   ]
  },
  {
   "cell_type": "code",
   "execution_count": null,
   "id": "polish-startup",
   "metadata": {
    "ExecuteTime": {
     "end_time": "2021-10-21T18:56:50.109789Z",
     "start_time": "2021-10-21T18:53:49.552299Z"
    }
   },
   "outputs": [],
   "source": [
    "# циклом завантажуємо кожен окремий файл та додаємо його до датасету - pd.concat\n",
    "data_wrong = pd.DataFrame()\n",
    "for f in tqdm(directory):\n",
    "    table = pd.read_csv(\"data/\"+ str(f), error_bad_lines = False, sep = \";\")\n",
    "    data_wrong= pd.concat([data_wrong, table])\n",
    "data_wrong"
   ]
  },
  {
   "cell_type": "code",
   "execution_count": null,
   "id": "coastal-woman",
   "metadata": {
    "ExecuteTime": {
     "end_time": "2021-10-21T21:02:06.730593Z",
     "start_time": "2021-10-21T21:02:06.714590Z"
    }
   },
   "outputs": [],
   "source": [
    "# якщо переглянемо колонки то побачимо, що через різний регістр назв ми отримали неправильний масив\n",
    "data_wrong.columns"
   ]
  },
  {
   "cell_type": "code",
   "execution_count": null,
   "id": "moderate-absolute",
   "metadata": {
    "ExecuteTime": {
     "end_time": "2021-10-21T21:04:34.998569Z",
     "start_time": "2021-10-21T21:02:09.248771Z"
    }
   },
   "outputs": [],
   "source": [
    "# правильний спосіб завантаження даних в pandas, якщов они зберігаються у кількох таблицях\n",
    "data_right = pd.DataFrame()\n",
    "for f in tqdm(directory):\n",
    "    table = pd.read_csv(\"data/\"+ str(f), error_bad_lines = False, sep = \";\")\n",
    "    table.columns = table.columns.str.lower() #у деяких старих наборах даних заголовки колонок великими літерами\n",
    "    data_right = pd.concat([data_right, table])\n",
    "data_right"
   ]
  },
  {
   "cell_type": "code",
   "execution_count": null,
   "id": "prostate-passenger",
   "metadata": {
    "ExecuteTime": {
     "end_time": "2021-10-21T21:10:49.615971Z",
     "start_time": "2021-10-21T21:10:49.575934Z"
    }
   },
   "outputs": [],
   "source": [
    "data_right.columns"
   ]
  },
  {
   "cell_type": "code",
   "execution_count": null,
   "id": "serious-click",
   "metadata": {
    "ExecuteTime": {
     "end_time": "2021-10-21T21:18:08.095044Z",
     "start_time": "2021-10-21T21:18:08.079409Z"
    }
   },
   "outputs": [],
   "source": [
    "data = data_right"
   ]
  },
  {
   "cell_type": "code",
   "execution_count": null,
   "id": "asian-toyota",
   "metadata": {
    "ExecuteTime": {
     "end_time": "2021-05-05T20:57:33.678636Z",
     "start_time": "2021-05-05T20:57:33.654582Z"
    }
   },
   "outputs": [],
   "source": [
    "# очищуємо зайві перемінні для економії пам'яті\n",
    "del data_right\n",
    "del data_wrong"
   ]
  },
  {
   "cell_type": "markdown",
   "id": "progressive-cylinder",
   "metadata": {},
   "source": [
    "Дані із кодами КОАТУУ - частково не заповнені, ми не хочемо втратити інформацію про жодну зареєстровану дію, тому ми не будемо використовувати дані із атрибуту data[\"reg_addr_koatuu\"], натомість ми геокодуємо дані з інформації про орган, який здійснював реєстраційні дії. Але ці дані доволі брудні, також під час формування набору у 2013 - 2015 роках проховодилась реформа, що призвело до того, що ми маємо інформацію про різні органи реєстрації. Сучасні органи кодуються у форматі ТСЦ ххуу - де хх - код регіону, а уу - унікальний код сервісного центру. \n",
    "Завантажимо таблицю, яка містить інформацію про сучасну прив'язку ТСЦ до областей та виведемо її, для цього треба налаштувати Pandas"
   ]
  },
  {
   "cell_type": "code",
   "execution_count": null,
   "id": "saved-parish",
   "metadata": {
    "ExecuteTime": {
     "end_time": "2021-10-21T21:11:02.339837Z",
     "start_time": "2021-10-21T21:11:02.286760Z"
    }
   },
   "outputs": [],
   "source": [
    "# встановлення обмеження на кількість відображених рядків\n",
    "pd.set_option('display.max_rows', 160)\n",
    " \n",
    "# скидання обмеження на кількість відображених атрибутів\n",
    "pd.set_option('display.max_columns', None)\n",
    " \n",
    "# встановлення обмеження на кількість відображених символів в комірці\n",
    "pd.set_option('display.max_colwidth', 25)"
   ]
  },
  {
   "cell_type": "code",
   "execution_count": null,
   "id": "hollow-blast",
   "metadata": {
    "ExecuteTime": {
     "end_time": "2021-10-21T21:11:04.554881Z",
     "start_time": "2021-10-21T21:11:03.349396Z"
    }
   },
   "outputs": [],
   "source": [
    "# читаємо таблицю\n",
    "deps = pd.read_excel(\"dep.xlsx\")"
   ]
  },
  {
   "cell_type": "code",
   "execution_count": null,
   "id": "aquatic-navigator",
   "metadata": {
    "ExecuteTime": {
     "end_time": "2021-10-21T21:11:06.427346Z",
     "start_time": "2021-10-21T21:11:06.395054Z"
    }
   },
   "outputs": [],
   "source": [
    "# виводимо її на екран для ознайомлення\n",
    "deps"
   ]
  },
  {
   "cell_type": "code",
   "execution_count": null,
   "id": "elect-industry",
   "metadata": {
    "ExecuteTime": {
     "end_time": "2021-10-21T21:18:12.919084Z",
     "start_time": "2021-10-21T21:18:12.863085Z"
    }
   },
   "outputs": [],
   "source": [
    "# дублюємо колонку із даними про департаменти для подальшого кодування регіонів\n",
    "data[\"region\"] = data[\"dep\"]"
   ]
  },
  {
   "cell_type": "code",
   "execution_count": null,
   "id": "silent-brunswick",
   "metadata": {
    "ExecuteTime": {
     "end_time": "2021-10-21T21:26:35.322864Z",
     "start_time": "2021-10-21T21:18:15.445845Z"
    }
   },
   "outputs": [],
   "source": [
    "# зводимо все до нижнього регістру\n",
    "data[\"region\"] = data[\"region\"].str.lower()\n",
    "\n",
    "# стандартизуємо дані із назвами сервісних центрів\n",
    "\n",
    "data[\"region\"] = data[\"region\"].str.replace(r\"\\((\\d{4})\\).*\", r\"тсц \\1\", regex=True)\n",
    "# Для быльшої зрозумілості виокремити області вирішив через окремі ітерації\n",
    "data[\"region\"] = data[\"region\"].str.replace(r\".*макарі.*|.*київсь.*\", r\"київська\", regex=True)\n",
    "data[\"region\"] = data[\"region\"].str.replace(r\".*чернівець.*\", r\"чернівецька\", regex=True)\n",
    "data[\"region\"] = data[\"region\"].str.replace(r\".*херсон.*\", r\"херсонська\", regex=True)\n",
    "data[\"region\"] = data[\"region\"].str.replace(r\".*мог-подільськ.*|.*липовец.*|.*ямпіл.*|.*калинівс.*|.*тульчин.*|.*козятин.*|.*вінниць.*|.*жмерин.*|.*берша.*|.*крижо.*|.*хмільн.*|.*гайсин.*|.*немирів.*\", r\"вінницька\", regex=True)\n",
    "data[\"region\"] = data[\"region\"].str.replace(r\".*донець.*\", r\"донецька\", regex=True)\n",
    "data[\"region\"] = data[\"region\"].str.replace(r\".*тернопіль.*\", r\"тернопільська\", regex=True)\n",
    "data[\"region\"] = data[\"region\"].str.replace(r\".*запорі.*\", r\"запорізька\", regex=True)\n",
    "data[\"region\"] = data[\"region\"].str.replace(r\".*волин.*|.*горохів.*|.*луцьк.*|.*ковел.*|.*ківер.*|.*любом.*|.*кашир.*\", r\"волинська\", regex=True)\n",
    "data[\"region\"] = data[\"region\"].str.replace(r\".*дніпропе.*\", r\"дніпропетровська\", regex=True)\n",
    "data[\"region\"] = data[\"region\"].str.replace(r\".*полтав.*\", r\"полтавська\", regex=True)\n",
    "data[\"region\"] = data[\"region\"].str.replace(r\".*чернігів.*\", r\"чернігівська\", regex=True)\n",
    "data[\"region\"] = data[\"region\"].str.replace(r\".*миколаїв.*\", r\"миколаївська\", regex=True)\n",
    "data[\"region\"] = data[\"region\"].str.replace(r\".*житомир.*|.*овруц.*|.*овруч.*|.*коростен.*|.*чудні.*|.*попільня.*|.*бердичі.*|.*радомиш.*\", r\"житомирська\", regex=True)\n",
    "data[\"region\"] = data[\"region\"].str.replace(r\".*львів.*\", r\"львівська\", regex=True)\n",
    "data[\"region\"] = data[\"region\"].str.replace(r\".*черкас.*\", r\"черкаська\", regex=True)\n",
    "data[\"region\"] = data[\"region\"].str.replace(r\".*івано.*\", r\"івано-Франківська\", regex=True)\n",
    "data[\"region\"] = data[\"region\"].str.replace(r\".*харків.*\", r\"харківська\", regex=True)\n",
    "data[\"region\"] = data[\"region\"].str.replace(r\".*рівне.*\", r\"рівненська\", regex=True)\n",
    "data[\"region\"] = data[\"region\"].str.replace(r\".*сум.*\", r\"сумська\", regex=True)\n",
    "data[\"region\"] = data[\"region\"].str.replace(r\".*нетіши.*\", r\"хмельницька\", regex=True)\n",
    "data[\"region\"] = data[\"region\"].str.replace(r\".*іршав.*|.*міжгірсь.*|.*виноградів.*|.*тячів.*|.*сваляв.*|.*берегів.*|.*берегов.*|.*рахів.*|.*ужгород.*|.*мукаче.*|.*мукачів.*|.*хуст.*\", r\"закарпатська\", regex=True)\n",
    "data[\"region\"] = data[\"region\"].str.replace(r\".*м\\. кіровсь.*|.*луганс.*|.*лутуг.*\", r\"луганська\", regex=True)\n",
    "data[\"region\"] = data[\"region\"].str.replace(r\".*м\\. київ.*|.*києв.*|.*головний.*|.*міністерство.*\", r\"київ\", regex=True)\n",
    "data[\"region\"] = data[\"region\"].str.replace(r\".*крим.*|.*євпаторія.*|.*судак.*|.*армян.*|.*сімферополь.*|.*симферопіль.*|.*бахчисарай.*\", r\"крим\", regex=True)\n",
    "data[\"region\"] = data[\"region\"].str.replace(r\"центр|тсц даі\", r\"тсц\", regex=True)"
   ]
  },
  {
   "cell_type": "code",
   "execution_count": null,
   "id": "legal-plain",
   "metadata": {
    "ExecuteTime": {
     "end_time": "2021-10-21T21:37:14.836304Z",
     "start_time": "2021-10-21T21:37:13.437749Z"
    }
   },
   "outputs": [],
   "source": [
    "# перевіряємо унікальні значення після використання регулярних виразів\n",
    "pp(data[\"region\"].unique())"
   ]
  },
  {
   "cell_type": "markdown",
   "id": "casual-aggregate",
   "metadata": {},
   "source": [
    "Кодуємо області в тіх записах де відомі номери сервісних центрів"
   ]
  },
  {
   "cell_type": "code",
   "execution_count": null,
   "id": "infectious-finland",
   "metadata": {
    "ExecuteTime": {
     "end_time": "2021-10-21T21:41:22.253608Z",
     "start_time": "2021-10-21T21:37:32.814441Z"
    }
   },
   "outputs": [],
   "source": [
    "data[\"region\"] = data[\"region\"].str.lower()\n",
    "data[\"region\"] = data[\"region\"].str.replace(r\"тсц 05.*\", r\"вінницька\", regex=True)\n",
    "data[\"region\"] = data[\"region\"].str.replace(r\"тсц 07.*\", r\"волинська\", regex=True)\n",
    "data[\"region\"] = data[\"region\"].str.replace(r\"тсц 12.*\", r\"дніпропетровська\", regex=True)\n",
    "data[\"region\"] = data[\"region\"].str.replace(r\"тсц 14.*|тсц даі 14.*\", r\"донецька\", regex=True)\n",
    "data[\"region\"] = data[\"region\"].str.replace(r\"тсц 18.*\", r\"житомирська\", regex=True)\n",
    "data[\"region\"] = data[\"region\"].str.replace(r\"тсц 21.*\", r\"закарпатська\", regex=True)\n",
    "data[\"region\"] = data[\"region\"].str.replace(r\"тсц 23.*\", r\"запорізька\", regex=True)\n",
    "data[\"region\"] = data[\"region\"].str.replace(r\"тсц 26.*\", r\"івано-Франківська\", regex=True)\n",
    "data[\"region\"] = data[\"region\"].str.replace(r\"тсц 32.*\", r\"київська\", regex=True)\n",
    "data[\"region\"] = data[\"region\"].str.replace(r\"тсц 35.*\", r\"кіровоградська\", regex=True)\n",
    "data[\"region\"] = data[\"region\"].str.replace(r\"тсц 44.*\", r\"луганська\", regex=True)\n",
    "data[\"region\"] = data[\"region\"].str.replace(r\"тсц 46.*\", r\"львівська\", regex=True)\n",
    "data[\"region\"] = data[\"region\"].str.replace(r\"тсц 48.*\", r\"миколаївська\", regex=True)\n",
    "data[\"region\"] = data[\"region\"].str.replace(r\"тсц 51.*\", r\"одеська\", regex=True)\n",
    "data[\"region\"] = data[\"region\"].str.replace(r\"тсц 53.*\", r\"полтавська\", regex=True)\n",
    "data[\"region\"] = data[\"region\"].str.replace(r\"тсц 56.*\", r\"рівненська\", regex=True)\n",
    "data[\"region\"] = data[\"region\"].str.replace(r\"тсц 59.*\", r\"сумська\", regex=True)\n",
    "data[\"region\"] = data[\"region\"].str.replace(r\"тсц 61.*\", r\"тернопільська\", regex=True)\n",
    "data[\"region\"] = data[\"region\"].str.replace(r\"тсц 63.*\", r\"харківська\", regex=True)\n",
    "data[\"region\"] = data[\"region\"].str.replace(r\"тсц 65.*\", r\"херсонська\", regex=True)\n",
    "data[\"region\"] = data[\"region\"].str.replace(r\"тсц 68.*\", r\"хмельницька\", regex=True)\n",
    "data[\"region\"] = data[\"region\"].str.replace(r\"тсц 71.*\", r\"черкаська\", regex=True)\n",
    "data[\"region\"] = data[\"region\"].str.replace(r\"тсц 73.*\", r\"чернівецька\", regex=True)\n",
    "data[\"region\"] = data[\"region\"].str.replace(r\"тсц 74.*|тсц даі 74.*\", r\"чернігівська\", regex=True)\n",
    "data[\"region\"] = data[\"region\"].str.replace(r\"тсц 80.*\", r\"київ\", regex=True)\n",
    "data[\"region\"] = data[\"region\"].str.replace(r\"тсц 85.*|тсц 01.*\", r\"крим\", regex=True) # кодуємо дані спільно для Криму та Сімферополя\n",
    "data[\"region\"] = data[\"region\"].str.replace(r\"мвс україни.*\", r\"київ\", regex=True) # кодуємо в останню чергу для уникнення помилок"
   ]
  },
  {
   "cell_type": "code",
   "execution_count": null,
   "id": "concerned-garlic",
   "metadata": {
    "ExecuteTime": {
     "end_time": "2021-10-21T21:43:10.062163Z",
     "start_time": "2021-10-21T21:42:52.100989Z"
    }
   },
   "outputs": [],
   "source": [
    "data[\"region\"] = data[\"region\"].str.replace(r\".*кіровоград.*\", r\"кіровоградcька\", regex=True)\n",
    "data[\"region\"] = data[\"region\"].str.replace(r\".*old_ддаі київ.*\", r\"київ\", regex=True)"
   ]
  },
  {
   "cell_type": "code",
   "execution_count": null,
   "id": "russian-roman",
   "metadata": {
    "ExecuteTime": {
     "end_time": "2021-10-21T21:43:17.891605Z",
     "start_time": "2021-10-21T21:43:13.308956Z"
    }
   },
   "outputs": [],
   "source": [
    "data[\"region\"] = data[\"region\"].str.lower()"
   ]
  },
  {
   "cell_type": "code",
   "execution_count": null,
   "id": "wicked-spelling",
   "metadata": {
    "ExecuteTime": {
     "end_time": "2021-10-21T21:43:20.475315Z",
     "start_time": "2021-10-21T21:43:18.459756Z"
    }
   },
   "outputs": [],
   "source": [
    "# Перевіряємо чи все ок із регіонами\n",
    "data[\"region\"].unique()"
   ]
  },
  {
   "cell_type": "code",
   "execution_count": null,
   "id": "ahead-rocket",
   "metadata": {
    "ExecuteTime": {
     "end_time": "2021-10-21T21:46:13.816801Z",
     "start_time": "2021-10-21T21:43:27.988229Z"
    }
   },
   "outputs": [],
   "source": [
    "# Зберігаємо дані у файл\n",
    "data.to_csv(\"data_normalize.csv\")"
   ]
  },
  {
   "cell_type": "code",
   "execution_count": null,
   "id": "official-senior",
   "metadata": {
    "ExecuteTime": {
     "end_time": "2021-05-05T20:59:40.163727Z",
     "start_time": "2021-05-05T20:59:40.147688Z"
    }
   },
   "outputs": [],
   "source": [
    "# у випадку, якщо щось не вантажиться\n",
    "del data"
   ]
  },
  {
   "cell_type": "markdown",
   "id": "focused-times",
   "metadata": {
    "ExecuteTime": {
     "end_time": "2021-05-03T08:24:48.608285Z",
     "start_time": "2021-05-03T08:24:48.603298Z"
    }
   },
   "source": [
    "## Підвантажуємо \"чистий\" набір із даними"
   ]
  },
  {
   "cell_type": "code",
   "execution_count": null,
   "id": "secondary-andorra",
   "metadata": {
    "ExecuteTime": {
     "end_time": "2021-10-22T11:34:54.690276Z",
     "start_time": "2021-10-22T11:33:15.987149Z"
    }
   },
   "outputs": [],
   "source": [
    "# Завантажуємо дані із файлу\n",
    "data = pd.read_csv(\"data_normalize.csv\")"
   ]
  },
  {
   "cell_type": "code",
   "execution_count": null,
   "id": "republican-ecuador",
   "metadata": {
    "ExecuteTime": {
     "end_time": "2021-10-22T11:39:00.340755Z",
     "start_time": "2021-10-22T11:39:00.180178Z"
    }
   },
   "outputs": [],
   "source": [
    "del data[\"Unnamed: 0\"]"
   ]
  },
  {
   "cell_type": "code",
   "execution_count": null,
   "id": "frozen-vegetable",
   "metadata": {
    "ExecuteTime": {
     "end_time": "2021-10-22T11:39:01.159537Z",
     "start_time": "2021-10-22T11:39:01.152547Z"
    }
   },
   "outputs": [],
   "source": [
    "data.columns"
   ]
  },
  {
   "cell_type": "code",
   "execution_count": null,
   "id": "handy-centre",
   "metadata": {
    "ExecuteTime": {
     "end_time": "2021-10-22T11:39:02.604348Z",
     "start_time": "2021-10-22T11:39:02.556330Z"
    }
   },
   "outputs": [],
   "source": [
    "data.head()"
   ]
  },
  {
   "cell_type": "markdown",
   "id": "technical-healing",
   "metadata": {},
   "source": [
    "Визначаємо пропущені значення - будуємо теплокарту пропущених значень. "
   ]
  },
  {
   "cell_type": "code",
   "execution_count": null,
   "id": "chicken-charity",
   "metadata": {
    "ExecuteTime": {
     "end_time": "2021-10-22T11:44:21.059682Z",
     "start_time": "2021-10-22T11:39:08.390929Z"
    }
   },
   "outputs": [],
   "source": [
    "cols = data.columns\n",
    "# визначаємо кольори\n",
    "# жовтий - пропущені значення, синій - дійсні значення\n",
    "colours = ['#000099', '#ffff00'] \n",
    "sns.heatmap(data[cols].isnull(), cmap=sns.color_palette(colours))"
   ]
  },
  {
   "cell_type": "markdown",
   "id": "unnecessary-relation",
   "metadata": {},
   "source": [
    "Переглядаємо статистику значень"
   ]
  },
  {
   "cell_type": "code",
   "execution_count": null,
   "id": "cloudy-allergy",
   "metadata": {
    "ExecuteTime": {
     "end_time": "2021-10-21T21:54:06.880061Z",
     "start_time": "2021-10-21T21:53:34.734210Z"
    }
   },
   "outputs": [],
   "source": [
    "for col in data.columns:\n",
    "    pct_missing = np.mean(data[col].isnull())\n",
    "    print('{} - {}%'.format(col, round(pct_missing*100)))"
   ]
  },
  {
   "cell_type": "markdown",
   "id": "better-infection",
   "metadata": {},
   "source": [
    "Будуємо гістограму пропущених значень"
   ]
  },
  {
   "cell_type": "code",
   "execution_count": null,
   "id": "optimum-adult",
   "metadata": {
    "ExecuteTime": {
     "end_time": "2021-10-21T21:54:25.730961Z",
     "start_time": "2021-10-21T21:54:17.856948Z"
    }
   },
   "outputs": [],
   "source": [
    "# будуємо індикатор для пропущених значень\n",
    "for col in data.columns:\n",
    "    missing = data[col].isnull()\n",
    "    num_missing = np.sum(missing)\n",
    "    \n",
    "    if num_missing > 0:  \n",
    "        print('created missing indicator for: {}'.format(col))\n",
    "        data['{}_ismissing'.format(col)] = missing\n",
    "\n",
    "\n",
    "# будуємо гістограму на основі індикатора\n",
    "ismissing_cols = [col for col in data.columns if 'ismissing' in col]\n",
    "data['num_missing'] = data[ismissing_cols].sum(axis=1)\n",
    "\n",
    "data['num_missing'].value_counts().reset_index().sort_values(by='index').plot.bar(x='index', y='num_missing')"
   ]
  },
  {
   "cell_type": "code",
   "execution_count": null,
   "id": "assumed-juice",
   "metadata": {
    "ExecuteTime": {
     "end_time": "2021-10-21T21:56:45.365473Z",
     "start_time": "2021-10-21T21:56:45.250223Z"
    }
   },
   "outputs": [],
   "source": [
    "del data[\"reg_addr_koatuu_ismissing\"]\n",
    "del data[\"fuel_ismissing\"]\n",
    "del data[\"capacity_ismissing\"]\n",
    "del data[\"own_weight_ismissing\"]\n",
    "del data[\"total_weight_ismissing\"]\n",
    "del data[\"n_reg_new_ismissing\"]\n",
    "del data[\"vin_ismissing\"]\n",
    "del data[\"num_missing\"]"
   ]
  },
  {
   "cell_type": "markdown",
   "id": "impressed-consent",
   "metadata": {},
   "source": [
    "Продовжуємо досліджувати дані"
   ]
  },
  {
   "cell_type": "code",
   "execution_count": null,
   "id": "fifteen-insider",
   "metadata": {
    "ExecuteTime": {
     "end_time": "2021-10-21T21:54:37.072043Z",
     "start_time": "2021-10-21T21:54:33.867014Z"
    }
   },
   "outputs": [],
   "source": [
    "#Перевіряємо види реєстрацій автомобілів\n",
    "data[\"oper_name\"].unique()"
   ]
  },
  {
   "cell_type": "code",
   "execution_count": null,
   "id": "automotive-massachusetts",
   "metadata": {
    "ExecuteTime": {
     "end_time": "2021-10-21T21:54:58.701118Z",
     "start_time": "2021-10-21T21:54:50.391197Z"
    }
   },
   "outputs": [],
   "source": [
    "# видаляємо непотрібні атрибути\n",
    "del data[\"reg_addr_koatuu\"]\n",
    "del data[\"oper_name\"]\n",
    "del data[\"dep_code\"]\n",
    "del data[\"dep\"]\n",
    "del data[\"capacity\"]\n",
    "del data[\"own_weight\"]\n",
    "del data[\"total_weight\"]\n",
    "del data[\"n_reg_new\"]"
   ]
  },
  {
   "cell_type": "code",
   "execution_count": null,
   "id": "naughty-louisiana",
   "metadata": {
    "ExecuteTime": {
     "end_time": "2021-10-21T21:56:49.350260Z",
     "start_time": "2021-10-21T21:56:49.326212Z"
    }
   },
   "outputs": [],
   "source": [
    "data.head()"
   ]
  },
  {
   "cell_type": "code",
   "execution_count": null,
   "id": "alert-firmware",
   "metadata": {
    "ExecuteTime": {
     "end_time": "2021-10-22T11:58:08.411233Z",
     "start_time": "2021-10-22T11:58:06.743460Z"
    }
   },
   "outputs": [],
   "source": [
    "# завантажуємо словник із інформацією про реєстраційні дії\n",
    "oper_name_dict = pd.read_csv(\"oper_name.csv\", sep = \";\",encoding = \"cp1251\" )\n",
    "oper_name_dict.head()"
   ]
  },
  {
   "cell_type": "code",
   "execution_count": null,
   "id": "demanding-organ",
   "metadata": {
    "ExecuteTime": {
     "end_time": "2021-10-21T21:56:59.853986Z",
     "start_time": "2021-10-21T21:56:59.825975Z"
    }
   },
   "outputs": [],
   "source": [
    "oper_name_dict"
   ]
  },
  {
   "cell_type": "code",
   "execution_count": null,
   "id": "placed-mother",
   "metadata": {
    "ExecuteTime": {
     "end_time": "2021-10-22T11:59:10.243169Z",
     "start_time": "2021-10-22T11:58:11.863367Z"
    }
   },
   "outputs": [],
   "source": [
    "# додаємо очищені дані про реєстраційні дії до основного датасету\n",
    "oper_name_dict[\"oper_code\"] = oper_name_dict[\"oper_code\"].astype(str)\n",
    "data[\"oper_code\"] = data[\"oper_code\"].astype(str)\n",
    "data = pd.merge(data,oper_name_dict, on='oper_code',how='left')\n",
    "data"
   ]
  },
  {
   "cell_type": "code",
   "execution_count": null,
   "id": "cordless-glenn",
   "metadata": {
    "ExecuteTime": {
     "end_time": "2021-10-21T22:02:05.462285Z",
     "start_time": "2021-10-21T22:00:08.799476Z"
    }
   },
   "outputs": [],
   "source": [
    "# створюємо новий стовпець із глобальним статусом\n",
    "data[\"oper_name_new\"] = data[\"oper_name_new\"].str.replace(r'.*ЗНЯТТЯ.*', r\"ЗНЯТТЯ\", regex = True)\n",
    "data[\"oper_name_new\"] = data[\"oper_name_new\"].str.replace(r'.*ПЕРВИННА.*', r\"ПЕРВИННА\", regex = True)"
   ]
  },
  {
   "cell_type": "code",
   "execution_count": null,
   "id": "elder-lawyer",
   "metadata": {
    "ExecuteTime": {
     "end_time": "2021-10-21T22:02:13.872643Z",
     "start_time": "2021-10-21T22:02:13.855639Z"
    }
   },
   "outputs": [],
   "source": [
    "data.head()"
   ]
  },
  {
   "cell_type": "markdown",
   "id": "premium-moment",
   "metadata": {},
   "source": [
    "# Аналіз"
   ]
  },
  {
   "cell_type": "markdown",
   "id": "photographic-circuit",
   "metadata": {},
   "source": [
    "Завантажуємо дані пілся OpenRefine\n",
    "та проводимо left join many-to-one"
   ]
  },
  {
   "cell_type": "code",
   "execution_count": null,
   "id": "competitive-gravity",
   "metadata": {
    "ExecuteTime": {
     "end_time": "2021-10-22T11:45:26.054052Z",
     "start_time": "2021-10-22T11:45:20.921331Z"
    }
   },
   "outputs": [],
   "source": [
    "brand_splited = pd.read_excel(\"brand_splited.xlsx\")\n",
    "brand_splited = brand_splited[[\"brand\", \"brand_new\"]]\n",
    "brand_splited = brand_splited.set_index(\"brand\")\n",
    "brand_splited"
   ]
  },
  {
   "cell_type": "code",
   "execution_count": null,
   "id": "vietnamese-liberia",
   "metadata": {
    "ExecuteTime": {
     "end_time": "2021-10-22T11:46:17.614881Z",
     "start_time": "2021-10-22T11:45:27.905358Z"
    }
   },
   "outputs": [],
   "source": [
    "data = pd.merge(data,brand_splited, on='brand',how='left')"
   ]
  },
  {
   "cell_type": "code",
   "execution_count": null,
   "id": "given-pricing",
   "metadata": {
    "ExecuteTime": {
     "end_time": "2021-10-21T22:02:37.395868Z",
     "start_time": "2021-10-21T22:02:37.371870Z"
    }
   },
   "outputs": [],
   "source": [
    "data.head()"
   ]
  },
  {
   "cell_type": "markdown",
   "id": "continued-mouth",
   "metadata": {},
   "source": [
    "### топ __нових__ реєстрацій автомобілів за маркою"
   ]
  },
  {
   "cell_type": "code",
   "execution_count": null,
   "id": "dental-birthday",
   "metadata": {
    "ExecuteTime": {
     "end_time": "2021-10-21T22:02:51.267271Z",
     "start_time": "2021-10-21T22:02:51.217813Z"
    }
   },
   "outputs": [],
   "source": [
    "# скидаємо індекс для того, щоб отримати унікальний ідентифікатор\n",
    "data.reset_index(inplace = True)"
   ]
  },
  {
   "cell_type": "code",
   "execution_count": null,
   "id": "diagnostic-blair",
   "metadata": {
    "ExecuteTime": {
     "end_time": "2021-10-22T11:59:26.075101Z",
     "start_time": "2021-10-22T11:59:19.848729Z"
    }
   },
   "outputs": [],
   "source": [
    "# робимо сабсет даних для візуалізації\n",
    "barplot_brands = data[[\"brand_new\",\"oper_code\",\"person\", \"kind\", \"make_year\"]]\n",
    "barplot_brands = barplot_brands.loc[\n",
    "    barplot_brands[\"oper_code\"].isin([\"30\", \"100\", \"11\", \"20\", \"10\", \"120\", \"99\", \"172\", \"105\", \"17\"])] # фільтруємо ті реєстраційні операції, які нам потрібні\n",
    "\n",
    "barplot_brands = barplot_brands.loc[\n",
    "    barplot_brands[\"person\"] == \"P\"] # вибираємо тип покупця, в даному випадку фізичні особи\n",
    "\n",
    "barplot_brands = barplot_brands.loc[\n",
    "    barplot_brands[\"kind\"] == \"ЛЕГКОВИЙ\"] # вибираємо тип автомобіля\n",
    "\n",
    "barplot_brands = barplot_brands.loc[\n",
    "    barplot_brands[\"make_year\"] >= 2000] # обираємо рік випуску автомобіля\n",
    "\n",
    "# робимо зведену таблицю для простоти візуалізації\n",
    "barplot_brands = pd.pivot_table(barplot_brands, index = \"brand_new\", aggfunc=\"count\")\n",
    "barplot_brands = barplot_brands.sort_values(\"oper_code\", ascending = False) #сортуємо дані в порядку спадання"
   ]
  },
  {
   "cell_type": "code",
   "execution_count": null,
   "id": "sensitive-kelly",
   "metadata": {
    "ExecuteTime": {
     "end_time": "2021-10-22T11:59:27.750127Z",
     "start_time": "2021-10-22T11:59:27.725127Z"
    }
   },
   "outputs": [],
   "source": [
    "barplot_brands.to_csv(\"barplot_brands.csv\")"
   ]
  },
  {
   "cell_type": "markdown",
   "id": "colored-seller",
   "metadata": {},
   "source": [
    "Посилання на документацію https://seaborn.pydata.org/generated/seaborn.barplot.html"
   ]
  },
  {
   "cell_type": "code",
   "execution_count": null,
   "id": "precious-anchor",
   "metadata": {
    "ExecuteTime": {
     "end_time": "2021-10-22T11:59:31.835408Z",
     "start_time": "2021-10-22T11:59:31.822373Z"
    }
   },
   "outputs": [],
   "source": [
    "# індекс, який ми отримали через сводну таблицю, для того щоб побудувати графік (при зміні налаштувань графіка застосовується лише раз)\n",
    "barplot_brands.reset_index(inplace = True)"
   ]
  },
  {
   "cell_type": "code",
   "execution_count": null,
   "id": "official-boutique",
   "metadata": {
    "ExecuteTime": {
     "end_time": "2021-10-22T11:59:33.308834Z",
     "start_time": "2021-10-22T11:59:32.854021Z"
    }
   },
   "outputs": [],
   "source": [
    "barplot = sns.barplot(\n",
    "    data=barplot_brands.iloc[:19], # Кількість записів у ТОП, можемо редагувати під час оголошення графіку\n",
    "    x =\"oper_code\",\n",
    "    y = \"brand_new\",\n",
    "    color=\"#0b7fab\",\n",
    ")\n",
    "\n",
    "sns.set_theme(\n",
    "    style = \"white\",\n",
    "    rc={'figure.figsize':(15,11)}\n",
    ")\n",
    "\n",
    "barplot.set(xlabel ='кількість реєстрацій', ylabel='')\n",
    "barplot.set(title = \"Рейтинг найпопулярніших марок авто в Україні\")\n",
    "barplot.figure.set_figwidth(20) #<-- зміна розміру відображення графіку\n",
    "barplot.figure.set_figheight(10)"
   ]
  },
  {
   "cell_type": "markdown",
   "id": "advised-quarter",
   "metadata": {},
   "source": [
    "### топ __нових__ реєстрацій автомобілв за моделлю фізичні особи"
   ]
  },
  {
   "cell_type": "code",
   "execution_count": null,
   "id": "timely-elements",
   "metadata": {
    "ExecuteTime": {
     "end_time": "2021-10-21T22:05:48.814351Z",
     "start_time": "2021-10-21T22:04:28.907071Z"
    }
   },
   "outputs": [],
   "source": [
    "# об'єднуємо стовпчик \"марка\" та \"модель\" для отримання унікальних записів\n",
    "data[\"brand_model\"] = data[[\"brand_new\", \"model\"]].apply(tuple, axis=1)\n",
    "data.head()"
   ]
  },
  {
   "cell_type": "code",
   "execution_count": null,
   "id": "charitable-article",
   "metadata": {
    "ExecuteTime": {
     "end_time": "2021-10-21T22:08:14.781399Z",
     "start_time": "2021-10-21T22:07:59.638733Z"
    }
   },
   "outputs": [],
   "source": [
    "model_j = pd.pivot_table(data, index = \"brand_model\", aggfunc=\"count\")\n",
    "model_j = model_j.sort_values(\"body\", ascending = False)\n",
    "model_j.head()"
   ]
  },
  {
   "cell_type": "code",
   "execution_count": null,
   "id": "portable-residence",
   "metadata": {
    "ExecuteTime": {
     "end_time": "2021-10-21T22:08:46.102873Z",
     "start_time": "2021-10-21T22:08:46.092844Z"
    }
   },
   "outputs": [],
   "source": [
    "# треба скинути індекс, який ми отримали через сводну таблицю, для того щоб побудувати графік (при зміні налаштувань графіка застосовується лише раз)\n",
    "model_j.reset_index(inplace = True)"
   ]
  },
  {
   "cell_type": "code",
   "execution_count": null,
   "id": "received-republic",
   "metadata": {
    "ExecuteTime": {
     "end_time": "2021-10-21T22:08:47.650931Z",
     "start_time": "2021-10-21T22:08:47.220829Z"
    }
   },
   "outputs": [],
   "source": [
    "barplot = sns.barplot(\n",
    "    data=model_j.iloc[:19], # Кількість записів у ТОП, можемо редагувати під час оголошення графіку\n",
    "    x=\"body\",\n",
    "    y = \"brand_model\",\n",
    "    color=\"#0b7fab\",\n",
    ")\n",
    "\n",
    "sns.set_theme(\n",
    "    style = \"white\",\n",
    "    rc={'figure.figsize':(15,11)}\n",
    ")\n",
    "\n",
    "barplot.set(title = \"Рейтинг найпопулярніших моделей авто в Україні\")\n",
    "barplot.set(xlabel ='Кількість реєстрацій', ylabel='')"
   ]
  },
  {
   "cell_type": "markdown",
   "id": "variable-manor",
   "metadata": {},
   "source": [
    "### Порівняння на лайнчарті кількості __нових__ реєстрацій АВТО за весь час з 2013 року"
   ]
  },
  {
   "cell_type": "code",
   "execution_count": null,
   "id": "overall-peeing",
   "metadata": {
    "ExecuteTime": {
     "end_time": "2021-10-22T11:56:42.495325Z",
     "start_time": "2021-10-22T11:56:19.454068Z"
    }
   },
   "outputs": [],
   "source": [
    "linechart_registrations = data[[\"brand_new\",\"oper_code\",\"person\", \"kind\", \"d_reg\"]]\n",
    "linechart_registrations[\"oper_code\"] = linechart_registrations[\"oper_code\"].astype(str)\n",
    "linechart_registrations[\"d_reg\"] = pd.to_datetime(linechart_registrations[\"d_reg\"])\n",
    "linechart_registrations = linechart_registrations.loc[\n",
    "    linechart_registrations[\"oper_code\"].isin([\"30\", \"100\", \"11\", \"20\", \"10\", \"99\", \"172\", \"105\", \"17\"])] # фільтруємо ті реєстраційні операції, які нам потрібні\n",
    "\n",
    "linechart_registrations = linechart_registrations.loc[\n",
    "    linechart_registrations[\"person\"] == \"P\"] # вибираємо тип покупця, в даному випадку фізичні особи\n",
    "\n",
    "linechart_registrations = linechart_registrations.loc[\n",
    "    linechart_registrations[\"kind\"] == \"ЛЕГКОВИЙ\"] # вибираємо тип автомобіля\n",
    "\n",
    "linechart_registrations = pd.pivot_table(linechart_registrations, index = \"d_reg\",aggfunc=\"count\" )\n",
    "#linechart_registrations['cum_sum'] = linechart_registrations['brand_new'].cumsum()\n",
    "linechart_registrations.reset_index(inplace = True)"
   ]
  },
  {
   "cell_type": "code",
   "execution_count": null,
   "id": "comic-reader",
   "metadata": {
    "ExecuteTime": {
     "end_time": "2021-10-22T11:56:47.802864Z",
     "start_time": "2021-10-22T11:56:47.723641Z"
    }
   },
   "outputs": [],
   "source": [
    "# агрегуємо інформацію по місяцях\n",
    "linechart_registrations[\"y_m\"] = pd.to_datetime(linechart_registrations[\"d_reg\"]).dt.strftime(\"%Y-%m\")\n",
    "linechart_registrations[\"y_m\"] = pd.to_datetime(linechart_registrations[\"y_m\"])\n",
    "linechart_registrations"
   ]
  },
  {
   "cell_type": "code",
   "execution_count": null,
   "id": "informative-proposal",
   "metadata": {
    "ExecuteTime": {
     "end_time": "2021-10-22T11:57:31.800062Z",
     "start_time": "2021-10-22T11:57:28.971450Z"
    },
    "scrolled": false
   },
   "outputs": [],
   "source": [
    "lines = sns.lineplot(data=linechart_registrations, x = \"y_m\", y = \"brand_new\", linewidth=2.5)\n",
    "lines.set(title = \"кількість нових реєстрацій авто \")\n",
    "lines.set(xlabel ='', ylabel='')\n",
    "lines.figure.set_figwidth(20) #<-- зміна розміру відображення графіку\n",
    "lines.figure.set_figheight(10)"
   ]
  },
  {
   "cell_type": "markdown",
   "id": "indian-nitrogen",
   "metadata": {
    "ExecuteTime": {
     "end_time": "2021-05-06T11:09:40.777699Z",
     "start_time": "2021-05-06T11:09:40.762735Z"
    }
   },
   "source": [
    "### Порівняння на лайнчарті кількості __нових__ реєстрацій АВТО за весь час з 2013 року (варіант 2)"
   ]
  },
  {
   "cell_type": "code",
   "execution_count": null,
   "id": "general-yorkshire",
   "metadata": {
    "ExecuteTime": {
     "end_time": "2021-10-21T22:09:50.005970Z",
     "start_time": "2021-10-21T22:09:49.980972Z"
    }
   },
   "outputs": [],
   "source": [
    "# створ.ємо зведену таблицю по місяцями\n",
    "linechart_registrations = pd.pivot_table(linechart_registrations, index = \"y_m\",aggfunc=\"count\" )"
   ]
  },
  {
   "cell_type": "code",
   "execution_count": null,
   "id": "expressed-profile",
   "metadata": {
    "ExecuteTime": {
     "end_time": "2021-10-21T22:09:51.045481Z",
     "start_time": "2021-10-21T22:09:51.027487Z"
    }
   },
   "outputs": [],
   "source": [
    "# скидаємо індекс\n",
    "linechart_registrations.reset_index(inplace = True)"
   ]
  },
  {
   "cell_type": "code",
   "execution_count": null,
   "id": "functioning-commission",
   "metadata": {
    "ExecuteTime": {
     "end_time": "2021-10-21T22:09:51.938598Z",
     "start_time": "2021-10-21T22:09:51.902111Z"
    }
   },
   "outputs": [],
   "source": [
    "linechart_registrations"
   ]
  },
  {
   "cell_type": "code",
   "execution_count": null,
   "id": "normal-update",
   "metadata": {
    "ExecuteTime": {
     "end_time": "2021-10-21T22:09:55.080690Z",
     "start_time": "2021-10-21T22:09:54.828350Z"
    }
   },
   "outputs": [],
   "source": [
    "lines = sns.lineplot(data=linechart_registrations, x = \"y_m\", y = \"brand_new\", linewidth=2.5)\n",
    "lines.set(title = \"кількість нових реєстрацій авто \")\n",
    "lines.set(xlabel ='', ylabel='')"
   ]
  },
  {
   "cell_type": "markdown",
   "id": "human-omaha",
   "metadata": {},
   "source": [
    "### Порівняння кількості реєстрацій та кількості зняття з реєстрації"
   ]
  },
  {
   "cell_type": "code",
   "execution_count": null,
   "id": "olive-waste",
   "metadata": {
    "ExecuteTime": {
     "end_time": "2021-10-21T22:10:31.054326Z",
     "start_time": "2021-10-21T22:10:25.168048Z"
    }
   },
   "outputs": [],
   "source": [
    "linechart_registrations = data[[\"brand_new\",\"oper_code\", \"person\", \"kind\", \"d_reg\", \"oper_name_new\"]] # створюємо копію із датасету з потрібними полями \n",
    "\n",
    "linechart_registrations[\"oper_code\"] = linechart_registrations[\"oper_code\"].astype(str) # змінюємо тип коду реєстрації на текстовий\n",
    "\n",
    "linechart_registrations[\"oper_name_new\"] = linechart_registrations[\"oper_name_new\"].astype(str) # змінюємо тип коду реєстрації на текстовий\n",
    "\n",
    "linechart_registrations[\"d_reg\"] = pd.to_datetime(linechart_registrations[\"d_reg\"]) # перетвлрюємо дату реєстрації на дату\n",
    "linechart_registrations = linechart_registrations.loc[\n",
    "    linechart_registrations[\"oper_code\"].isin([\n",
    "        \"30\", \"100\", \"11\", \"20\", \"10\", \"99\",\n",
    "        \"172\", \"105\", \"17\", \"552\", \"553\", \"53\", \"536\",\n",
    "        \"542\", \"570\", \"500\", \"554\", \"580\", \"560\", \"510\",\n",
    "        \"535\", \"534\", \"540\", \"550\", \"561\", \"520\", \"532\",\n",
    "        \"531\", \"533\", \"530\"])] # фільтруємо ті реєстраційні операції, які нам потрібні\n",
    "\n",
    "linechart_registrations = linechart_registrations.loc[\n",
    "    linechart_registrations[\"person\"] == \"P\"] # вибираємо тип покупця, в даному випадку фізичні особи\n",
    "\n",
    "linechart_registrations = linechart_registrations.loc[\n",
    "    linechart_registrations[\"kind\"] == \"ЛЕГКОВИЙ\"] # вибираємо тип автомобіля\n",
    "\n",
    "linechart_registrations = pd.pivot_table(linechart_registrations, index = [\"oper_name_new\", \"d_reg\"] ,aggfunc=\"count\" ) # створюємо зведену таблицю\n",
    "linechart_registrations['cum_sum'] = linechart_registrations['brand_new'].cumsum() # створюємо стовпич із кумулятивною сумою\n",
    "linechart_registrations.reset_index(inplace = True) # прибераємо індекс\n"
   ]
  },
  {
   "cell_type": "code",
   "execution_count": null,
   "id": "flush-arkansas",
   "metadata": {
    "ExecuteTime": {
     "end_time": "2021-10-21T22:10:33.365808Z",
     "start_time": "2021-10-21T22:10:33.325210Z"
    }
   },
   "outputs": [],
   "source": [
    "linechart_registrations"
   ]
  },
  {
   "cell_type": "code",
   "execution_count": null,
   "id": "cultural-primary",
   "metadata": {
    "ExecuteTime": {
     "end_time": "2021-10-21T22:10:35.057391Z",
     "start_time": "2021-10-21T22:10:34.599272Z"
    }
   },
   "outputs": [],
   "source": [
    "lines = sns.lineplot(data=linechart_registrations, x = \"d_reg\", y = \"cum_sum\", linewidth=2.5, hue=\"oper_name_new\")\n",
    "lines.set(title = \"кількість нових реєстрацій авто \")\n",
    "lines.set(xlabel ='', ylabel='')"
   ]
  },
  {
   "cell_type": "markdown",
   "id": "skilled-canvas",
   "metadata": {},
   "source": [
    "### Сітка лайн чартів із порівнянням кількості __нових__ реєстрацій по областях"
   ]
  },
  {
   "cell_type": "code",
   "execution_count": null,
   "id": "worst-lease",
   "metadata": {
    "ExecuteTime": {
     "end_time": "2021-10-21T22:10:50.761655Z",
     "start_time": "2021-10-21T22:10:44.376200Z"
    }
   },
   "outputs": [],
   "source": [
    "# Create a dataset with many short random walks\n",
    "linechart_registrations = data[[\"brand_new\",\"oper_code\",\"person\", \"kind\", \"d_reg\", \"region\"]]\n",
    "linechart_registrations[\"oper_code\"] = linechart_registrations[\"oper_code\"].astype(str)\n",
    "linechart_registrations[\"d_reg\"] = pd.to_datetime(linechart_registrations[\"d_reg\"])\n",
    "\n",
    "linechart_registrations = linechart_registrations.loc[\n",
    "    linechart_registrations[\"oper_code\"].isin([\"30\", \"100\", \"11\", \"20\", \"10\", \"120\", \"99\"])] # фільтруємо ті реєстраційні операції, які нам потрібні\n",
    "\n",
    "linechart_registrations = linechart_registrations.loc[\n",
    "    linechart_registrations[\"person\"] == \"P\"] # вибираємо тип покупця, в даному випадку фізичні особи\n",
    "\n",
    "linechart_registrations = linechart_registrations.loc[\n",
    "    linechart_registrations[\"kind\"] == \"ЛЕГКОВИЙ\"] # вибираємо тип автомобіля\n",
    "\n",
    "linechart_registrations = pd.pivot_table(linechart_registrations, index = [\"d_reg\", \"region\"],aggfunc=\"count\" )\n",
    "linechart_registrations"
   ]
  },
  {
   "cell_type": "code",
   "execution_count": null,
   "id": "recognized-packing",
   "metadata": {
    "ExecuteTime": {
     "end_time": "2021-10-21T22:10:53.472244Z",
     "start_time": "2021-10-21T22:10:53.438245Z"
    }
   },
   "outputs": [],
   "source": [
    "# треба скинути індекс, який ми отримали через сводну таблицю, для того щоб побудувати графік (при зміні налаштувань графіка застосовується лише раз)\n",
    "linechart_registrations.reset_index(inplace = True)\n",
    "linechart_registrations"
   ]
  },
  {
   "cell_type": "code",
   "execution_count": null,
   "id": "insured-visit",
   "metadata": {
    "ExecuteTime": {
     "end_time": "2021-10-21T22:10:56.375147Z",
     "start_time": "2021-10-21T22:10:55.870361Z"
    }
   },
   "outputs": [],
   "source": [
    "# агрегуємо інформацію по місяцях\n",
    "linechart_registrations[\"y_m\"] = pd.to_datetime(linechart_registrations[\"d_reg\"]).dt.strftime(\"%Y-%m\")\n",
    "linechart_registrations[\"y_m\"] = pd.to_datetime(linechart_registrations[\"y_m\"])\n",
    "linechart_registrations"
   ]
  },
  {
   "cell_type": "code",
   "execution_count": null,
   "id": "married-pride",
   "metadata": {
    "ExecuteTime": {
     "end_time": "2021-10-21T22:11:04.124673Z",
     "start_time": "2021-10-21T22:10:59.392437Z"
    }
   },
   "outputs": [],
   "source": [
    "# ініціюємо сітку графіків для кожного регіону\n",
    "grid = sns.FacetGrid(linechart_registrations, col=\"region\", col_wrap=5, height=3)\n",
    "\n",
    "grid.map(plt.plot, \"y_m\", \"brand_new\")\n",
    "grid.set(xlabel ='', ylabel='')"
   ]
  },
  {
   "cell_type": "code",
   "execution_count": null,
   "id": "functioning-courage",
   "metadata": {
    "ExecuteTime": {
     "end_time": "2021-10-21T22:24:26.842375Z",
     "start_time": "2021-10-21T22:24:26.158144Z"
    }
   },
   "outputs": [],
   "source": [
    "#Аналіз даних про вінкоди автомобілів\n",
    "vin = data[data[\"vin\"].notna()]\n",
    "vin"
   ]
  },
  {
   "cell_type": "code",
   "execution_count": null,
   "id": "documented-stations",
   "metadata": {
    "ExecuteTime": {
     "end_time": "2021-10-21T22:24:32.404597Z",
     "start_time": "2021-10-21T22:24:29.058454Z"
    }
   },
   "outputs": [],
   "source": [
    "vin = pd.pivot_table(vin[[\"body\", \"vin\"]], index = \"vin\", aggfunc = \"count\")\n",
    "vin.reset_index(inplace = True)\n",
    "vin = vin.sort_values(by = \"body\", ascending = False)\n",
    "vin"
   ]
  },
  {
   "cell_type": "code",
   "execution_count": null,
   "id": "broken-republic",
   "metadata": {
    "ExecuteTime": {
     "end_time": "2021-10-21T22:24:46.339722Z",
     "start_time": "2021-10-21T22:24:46.320771Z"
    }
   },
   "outputs": [],
   "source": [
    "vin = vin[vin[\"body\"] > 5]\n",
    "vin"
   ]
  },
  {
   "cell_type": "code",
   "execution_count": null,
   "id": "antique-invite",
   "metadata": {
    "ExecuteTime": {
     "end_time": "2021-10-22T13:28:29.177757Z",
     "start_time": "2021-10-22T13:28:28.694759Z"
    }
   },
   "outputs": [],
   "source": [
    "# VTHHUNTERTG057735 - хтось затиснув \"не ту\" клавішу\n",
    "\n",
    "data[data[\"vin\"] == \"YS2K6X20001869015\"].sort_values(by = \"d_reg\")"
   ]
  },
  {
   "cell_type": "code",
   "execution_count": null,
   "id": "contrary-airport",
   "metadata": {
    "ExecuteTime": {
     "end_time": "2021-10-21T22:26:02.208163Z",
     "start_time": "2021-10-21T22:26:01.434420Z"
    }
   },
   "outputs": [],
   "source": [
    "data[data[\"brand\"] == \"TESLA\"]"
   ]
  }
 ],
 "metadata": {
  "kernelspec": {
   "display_name": "Python 3",
   "language": "python",
   "name": "python3"
  },
  "language_info": {
   "codemirror_mode": {
    "name": "ipython",
    "version": 3
   },
   "file_extension": ".py",
   "mimetype": "text/x-python",
   "name": "python",
   "nbconvert_exporter": "python",
   "pygments_lexer": "ipython3",
   "version": "3.9.6"
  },
  "toc": {
   "base_numbering": 1,
   "nav_menu": {},
   "number_sections": true,
   "sideBar": true,
   "skip_h1_title": false,
   "title_cell": "Table of Contents",
   "title_sidebar": "Contents",
   "toc_cell": false,
   "toc_position": {},
   "toc_section_display": true,
   "toc_window_display": false
  }
 },
 "nbformat": 4,
 "nbformat_minor": 5
}
